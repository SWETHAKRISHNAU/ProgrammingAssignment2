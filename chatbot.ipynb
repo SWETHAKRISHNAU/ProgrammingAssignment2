{
  "nbformat": 4,
  "nbformat_minor": 0,
  "metadata": {
    "colab": {
      "provenance": [],
      "authorship_tag": "ABX9TyNq729AjpIPDgFm1OtHni9z",
      "include_colab_link": true
    },
    "kernelspec": {
      "name": "python3",
      "display_name": "Python 3"
    },
    "language_info": {
      "name": "python"
    }
  },
  "cells": [
    {
      "cell_type": "markdown",
      "metadata": {
        "id": "view-in-github",
        "colab_type": "text"
      },
      "source": [
        "<a href=\"https://colab.research.google.com/github/SWETHAKRISHNAU/ProgrammingAssignment2/blob/master/chatbot.ipynb\" target=\"_parent\"><img src=\"https://colab.research.google.com/assets/colab-badge.svg\" alt=\"Open In Colab\"/></a>"
      ]
    },
    {
      "cell_type": "code",
      "source": [
        "from sklearn.feature_extraction.text import CountVectorizer\n",
        "from sklearn.tree import DecisionTreeClassifier\n",
        "import pandas as pd\n",
        "\n",
        "# swethaaaaaaa Sample training data\n",
        "data = {\n",
        "    \"text\": [\n",
        "        \"I'm happy\",\n",
        "        \"I feel great\",\n",
        "        \"I'm sad\",\n",
        "        \"I feel terrible\",\n",
        "        \"I love this\",\n",
        "        \"I hate that\",\n",
        "        \"I enjoy music\",\n",
        "        \"I'm lonely\"\n",
        "    ],\n",
        "    \"response\": [\n",
        "        \"That's wonderful!\",\n",
        "        \"Great to hear!\",\n",
        "        \"I'm sorry to hear that.\",\n",
        "        \"That sounds difficult.\",\n",
        "        \"That's awesome!\",\n",
        "        \"I understand your frustration.\",\n",
        "        \"Music is great for the soul!\",\n",
        "        \"You're not alone. Want to talk?\"\n",
        "    ],\n",
        "    \"label\": [\n",
        "        \"happy\", \"happy\", \"sad\", \"sad\", \"happy\", \"angry\", \"happy\", \"sad\"\n",
        "    ]\n",
        "}\n",
        "\n",
        "df = pd.DataFrame(data)\n",
        "\n",
        "# Vectorize text\n",
        "vectorizer = CountVectorizer()\n",
        "X = vectorizer.fit_transform(df['text'])\n",
        "\n",
        "# Train decision tree\n",
        "tree = DecisionTreeClassifier()\n",
        "tree.fit(X, df['label'])\n",
        "\n",
        "# Chatbot function\n",
        "def chatbot():\n",
        "    print(\"Chatbot: Hi! How are you feeling? (type 'quit' to exit)\")\n",
        "    while True:\n",
        "        user_input = input(\"You: \")\n",
        "        if user_input.lower() == 'quit':\n",
        "            break\n",
        "\n",
        "        # Predict label\n",
        "        input_vec = vectorizer.transform([user_input])\n",
        "        label = tree.predict(input_vec)[0]\n",
        "\n",
        "        # Get appropriate response\n",
        "        response = df[df['label'] == label]['response'].sample().values[0]\n",
        "        print(f\"Chatbot: {response}\")\n",
        "\n",
        "# Run the chatbot\n",
        "if __name__ == \"__main__\":\n",
        "    chatbot()"
      ],
      "metadata": {
        "colab": {
          "base_uri": "https://localhost:8080/"
        },
        "id": "2CDnfft7XtWV",
        "outputId": "de1b930a-cfdc-442e-811c-1bb58843a9fa"
      },
      "execution_count": 1,
      "outputs": [
        {
          "name": "stdout",
          "output_type": "stream",
          "text": [
            "Chatbot: Hi! How are you feeling? (type 'quit' to exit)\n",
            "You: i am swetha\n",
            "Chatbot: Music is great for the soul!\n",
            "You: i am finwe\n",
            "Chatbot: That's awesome!\n",
            "You: quit\n"
          ]
        }
      ]
    }
  ]
}